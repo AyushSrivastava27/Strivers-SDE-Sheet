{
  "nbformat": 4,
  "nbformat_minor": 0,
  "metadata": {
    "colab": {
      "provenance": [],
      "authorship_tag": "ABX9TyMd63gNEdOipq69xsZ/ORz0",
      "include_colab_link": true
    },
    "kernelspec": {
      "name": "python3",
      "display_name": "Python 3"
    },
    "language_info": {
      "name": "python"
    }
  },
  "cells": [
    {
      "cell_type": "markdown",
      "metadata": {
        "id": "view-in-github",
        "colab_type": "text"
      },
      "source": [
        "<a href=\"https://colab.research.google.com/github/AyushSrivastava27/Strivers-SDE-Sheet/blob/main/Strivers_SDE_Sheet.ipynb\" target=\"_parent\"><img src=\"https://colab.research.google.com/assets/colab-badge.svg\" alt=\"Open In Colab\"/></a>"
      ]
    },
    {
      "cell_type": "markdown",
      "source": [
        "#### 1. [Set Matrix Zeroes](https://leetcode.com/problems/set-matrix-zeroes/)"
      ],
      "metadata": {
        "id": "AjrphxV-MqHz"
      }
    },
    {
      "cell_type": "code",
      "execution_count": null,
      "metadata": {
        "id": "Qog6Rc4tZ34h"
      },
      "outputs": [],
      "source": [
        "class Solution:\n",
        "    def getChanges(self, mat):\n",
        "        changePositions = []\n",
        "        for i in range(len(mat)):\n",
        "            for j in range(len(mat[0])):\n",
        "                if mat[i][j] == 0:\n",
        "                    changePositions.append((i, j))\n",
        "        return changePositions\n",
        "    def setZeroes(self, matrix):\n",
        "        changes = self.getChanges(matrix)\n",
        "        m = len(matrix)\n",
        "        n = len(matrix[0])\n",
        "        for coor in changes:\n",
        "            for i in range(m):\n",
        "                matrix[i][coor[1]] = 0\n",
        "            for j in range(n):\n",
        "                matrix[coor[0]][j] = 0"
      ]
    },
    {
      "cell_type": "markdown",
      "source": [
        "#### 2. [Pascal's Triangle](https://leetcode.com/problems/pascals-triangle/)"
      ],
      "metadata": {
        "id": "pJfaVwP7eiJv"
      }
    },
    {
      "cell_type": "code",
      "source": [
        "class Solution:\n",
        "    def generate(self, numRows: int) -> List[List[int]]:\n",
        "        arr = [[1]]\n",
        "        l = []\n",
        "        for i in range(numRows-1):\n",
        "            l = [1]\n",
        "            for j in range(i):\n",
        "                l.append(arr[i][j] + arr[i][j+1])\n",
        "            l.append(1)\n",
        "            arr.append(l)\n",
        "        return arr"
      ],
      "metadata": {
        "id": "yCyPtEtJeh4U"
      },
      "execution_count": null,
      "outputs": []
    },
    {
      "cell_type": "markdown",
      "source": [
        "#### 3. [Next Permutation](https://leetcode.com/problems/next-permutation/description/)"
      ],
      "metadata": {
        "id": "guLSuVkvUtcL"
      }
    },
    {
      "cell_type": "code",
      "source": [
        "class Solution:\n",
        "    def nextPermutation(self, nums: List[int]) -> None:\n",
        "        \"\"\"\n",
        "        Do not return anything, modify nums in-place instead.\n",
        "        \"\"\"\n",
        "        n = len(nums)\n",
        "\n",
        "        if n in [0,1]:\n",
        "            return\n",
        "        b = -1\n",
        "        for i in range(n-1, -1, -1):\n",
        "            if nums[i] < nums[b]:\n",
        "                for j in range(n-1, i, -1):\n",
        "                    if nums[j] > nums[i]:\n",
        "                        nums[i], nums[j] = nums[j], nums[i]\n",
        "                        nums[i+1:] = sorted(nums[i+1:])\n",
        "                        return\n",
        "            else:\n",
        "                b = i\n",
        "        nums.sort()"
      ],
      "metadata": {
        "id": "RDyBoo5IUqCg"
      },
      "execution_count": null,
      "outputs": []
    },
    {
      "cell_type": "markdown",
      "source": [
        "#### 4. [Maximum Subarray](https://leetcode.com/problems/maximum-subarray/description/)"
      ],
      "metadata": {
        "id": "XmLic8I_skbE"
      }
    },
    {
      "cell_type": "code",
      "source": [
        "# 1. Brute force method\n",
        "class Solution:\n",
        "    def maxSubArray(self, nums: List[int]) -> int:\n",
        "        m = 0\n",
        "        for i in range(len(nums)):\n",
        "            for j in range(i, len(nums)):\n",
        "                sum = 0\n",
        "                for k in range(i, j+1):\n",
        "                    sum += nums[k]\n",
        "                m = max(sum, m)\n",
        "        return m\n",
        "\n",
        "# 2. Kadane's Algorithm\n",
        "\n",
        "class Solution:\n",
        "    def maxSubArray(self, nums: List[int]) -> int:\n",
        "        sum = 0\n",
        "        m = nums[0]\n",
        "\n",
        "        for i in range(0, len(nums)):\n",
        "            sum += nums[i]\n",
        "            m = max(m, sum)\n",
        "\n",
        "            if sum<0:\n",
        "                sum = 0\n",
        "        return m"
      ],
      "metadata": {
        "id": "RU_vLMfe7yiD"
      },
      "execution_count": null,
      "outputs": []
    },
    {
      "cell_type": "markdown",
      "source": [
        "#### 5. [Sort Colors](https://leetcode.com/problems/sort-colors/description/)"
      ],
      "metadata": {
        "id": "fKQgWH42N04S"
      }
    },
    {
      "cell_type": "code",
      "source": [
        "class Solution:\n",
        "    def sortColors(self, nums: List[int]) -> None:\n",
        "        \"\"\"\n",
        "        Do not return anything, modify nums in-place instead.\n",
        "        \"\"\"\n",
        "        nums = nums.sort()"
      ],
      "metadata": {
        "id": "HfFjlkhxN1Yz"
      },
      "execution_count": null,
      "outputs": []
    },
    {
      "cell_type": "markdown",
      "source": [
        "#### 6. [Best Time to Buy and Sell Stock](https://leetcode.com/problems/best-time-to-buy-and-sell-stock/description/)"
      ],
      "metadata": {
        "id": "r1lBMJVAMYSX"
      }
    },
    {
      "cell_type": "code",
      "source": [
        "class Solution:\n",
        "    def maxProfit(self, prices: List[int]) -> int:\n",
        "        min_price = prices[0]\n",
        "        max_profit = 0\n",
        "\n",
        "        for i in prices[1:]:\n",
        "            max_profit = max(max_profit, i-min_price)\n",
        "            min_price = min(min_price, i)\n",
        "\n",
        "        return max_profit"
      ],
      "metadata": {
        "id": "e4DRT94EMhjE"
      },
      "execution_count": null,
      "outputs": []
    },
    {
      "cell_type": "markdown",
      "source": [
        "#### 7. [Rotate Matrix](https://leetcode.com/problems/rotate-image/description/)"
      ],
      "metadata": {
        "id": "_8kozEa2zuuQ"
      }
    },
    {
      "cell_type": "code",
      "source": [
        "class Solution:\n",
        "    def rotate(self, matrix: List[List[int]]) -> None:\n",
        "        \"\"\"\n",
        "        Do not return anything, modify matrix in-place instead.\n",
        "        \"\"\"\n",
        "        l = len(matrix)\n",
        "        for i in range(l):\n",
        "            for j in range(i, l):\n",
        "                matrix[i][j], matrix[j][i] = matrix[j][i], matrix[i][j]\n",
        "\n",
        "        for i in range(l):\n",
        "            matrix[i].reverse()"
      ],
      "metadata": {
        "id": "kuiiaSiYzt9D"
      },
      "execution_count": null,
      "outputs": []
    },
    {
      "cell_type": "markdown",
      "source": [
        "#### 8. [Merge Intervals](https://leetcode.com/problems/merge-intervals/description/)"
      ],
      "metadata": {
        "id": "Kdgn-YTOgLS_"
      }
    },
    {
      "cell_type": "code",
      "source": [
        "class Solution:\n",
        "    def merge(self, intervals: List[List[int]]) -> List[List[int]]:\n",
        "        intervals = sorted(intervals)\n",
        "        arr = []\n",
        "\n",
        "        for i in intervals:\n",
        "            if not arr or arr[-1][1] < i[0]:\n",
        "                arr.append(i)\n",
        "            else:\n",
        "                arr[-1][1] = max(arr[-1][1], i[1])\n",
        "        return arr\n"
      ],
      "metadata": {
        "id": "l8yz7agkgKAl"
      },
      "execution_count": null,
      "outputs": []
    },
    {
      "cell_type": "markdown",
      "source": [
        "#### 9. [Merge Sorted Array](https://leetcode.com/problems/merge-sorted-array/)"
      ],
      "metadata": {
        "id": "CegDx2QMQb9D"
      }
    },
    {
      "cell_type": "code",
      "source": [
        "class Solution:\n",
        "    def merge(self, nums1: List[int], m: int, nums2: List[int], n: int) -> None:\n",
        "        \"\"\"\n",
        "        Do not return anything, modify nums1 in-place instead.\n",
        "        \"\"\"\n",
        "        for i in range(m, len(nums1)):\n",
        "            nums1[i] = nums2[i-m]\n",
        "\n",
        "        nums1 = nums1.sort()"
      ],
      "metadata": {
        "id": "QYbDA4mSQeLZ"
      },
      "execution_count": null,
      "outputs": []
    },
    {
      "cell_type": "markdown",
      "source": [
        "#### 10. [Find the Duplicate Number](https://leetcode.com/problems/find-the-duplicate-number/description/)"
      ],
      "metadata": {
        "id": "LvL5k3GJWcNu"
      }
    },
    {
      "cell_type": "code",
      "source": [
        "class Solution:\n",
        "    def findDuplicate(self, nums: List[int]) -> int:\n",
        "        slow = nums[0]\n",
        "        fast = nums[0]\n",
        "\n",
        "        while True:\n",
        "            slow = nums[slow]\n",
        "            fast = nums[nums[fast]]\n",
        "            if slow == fast:\n",
        "                break\n",
        "\n",
        "        slow = nums[0]\n",
        "        while slow != fast:\n",
        "            slow = nums[slow]\n",
        "            fast = nums[fast]\n",
        "\n",
        "        return fast"
      ],
      "metadata": {
        "id": "hY8HgYnGWitE"
      },
      "execution_count": null,
      "outputs": []
    },
    {
      "cell_type": "markdown",
      "source": [
        "#### 11. [Find Missing and repeating Number](https://www.interviewbit.com/problems/repeat-and-missing-number-array/)"
      ],
      "metadata": {
        "id": "cKHgDmIaWjp9"
      }
    },
    {
      "cell_type": "code",
      "source": [
        "class Solution:\n",
        "    def repeatedNumber(self, A):\n",
        "        a = []\n",
        "        for i in A:\n",
        "            if count(i) > 1:\n",
        "                a.append(i)\n",
        "\n",
        "            for i in range(len(A)):\n",
        "                if i not in A:\n",
        "                    a.append(i)\n",
        "\n",
        "        return a"
      ],
      "metadata": {
        "id": "XhrTV7plWvIx"
      },
      "execution_count": null,
      "outputs": []
    },
    {
      "cell_type": "markdown",
      "source": [
        "### [Search in a 2D Array](https://leetcode.com/problems/search-a-2d-matrix/description/)"
      ],
      "metadata": {
        "id": "wC-EsEn80hRO"
      }
    },
    {
      "cell_type": "code",
      "source": [
        "class Solution:\n",
        "    def searchMatrix(self, matrix: List[List[int]], target: int) -> bool:\n",
        "        if not matrix or not matrix[0]:\n",
        "            return False\n",
        "\n",
        "        m, n = len(matrix), len(matrix[0])\n",
        "        left, right = 0, m * n - 1\n",
        "\n",
        "        while left <= right:\n",
        "            mid = (left + right) // 2\n",
        "            mid_value = matrix[mid // n][mid % n]\n",
        "\n",
        "            if mid_value == target:\n",
        "                return True\n",
        "            elif mid_value < target:\n",
        "                left = mid + 1\n",
        "            else:\n",
        "                right = mid - 1\n",
        "\n",
        "        return False"
      ],
      "metadata": {
        "id": "i1Vq684m0qBl"
      },
      "execution_count": null,
      "outputs": []
    },
    {
      "cell_type": "markdown",
      "source": [
        "### [Pow(x, n)](https://leetcode.com/problems/powx-n/description/)"
      ],
      "metadata": {
        "id": "AAW_xIDqE0VT"
      }
    },
    {
      "cell_type": "code",
      "source": [
        "class Solution:\n",
        "    def myPow(self, x: float, n: int) -> float:\n",
        "        return x**n"
      ],
      "metadata": {
        "id": "ZA3xupF8E8Cz"
      },
      "execution_count": null,
      "outputs": []
    },
    {
      "cell_type": "markdown",
      "source": [
        "### Binary Search"
      ],
      "metadata": {
        "id": "PtTbxQxVDj6g"
      }
    },
    {
      "cell_type": "markdown",
      "source": [
        "### [ Single Element in a Sorted Array](https://leetcode.com/problems/single-element-in-a-sorted-array/description/)"
      ],
      "metadata": {
        "id": "PbKwxuCQDml4"
      }
    },
    {
      "cell_type": "code",
      "source": [
        "class Solution:\n",
        "    def singleNonDuplicate(self, nums: List[int]) -> int:\n",
        "        low = 0\n",
        "        high = len(nums)-2\n",
        "        while(low <= high):\n",
        "            mid = (low + high)//2\n",
        "            if nums[mid] == nums[mid ^ 1]:\n",
        "                low = mid + 1\n",
        "            else:\n",
        "                high = mid -1\n",
        "        return nums[low]"
      ],
      "metadata": {
        "id": "DfG-3OqjDlax"
      },
      "execution_count": null,
      "outputs": []
    },
    {
      "cell_type": "markdown",
      "source": [
        "### [Search in Rotated Sorted Array](https://leetcode.com/problems/search-in-rotated-sorted-array/description/)"
      ],
      "metadata": {
        "id": "EiBP3u85QyZZ"
      }
    },
    {
      "cell_type": "code",
      "source": [
        "class Solution:\n",
        "    def search(self, nums: List[int], target: int) -> int:\n",
        "        start, end = 0, len(nums) - 1\n",
        "        while start <= end:\n",
        "            mid = (start + end) // 2\n",
        "            if nums[mid] == target:\n",
        "                return mid\n",
        "            if nums[start] <= nums[mid]:\n",
        "                if nums[start] <= target < nums[mid]:\n",
        "                    end = mid - 1\n",
        "                else:\n",
        "                    start = mid + 1\n",
        "            else:\n",
        "                if nums[mid] < target <= nums[end]:\n",
        "                    start = mid + 1\n",
        "                else:\n",
        "                    end = mid - 1\n",
        "        return -1"
      ],
      "metadata": {
        "id": "r5AA5THDQ2ju"
      },
      "execution_count": null,
      "outputs": []
    }
  ]
}