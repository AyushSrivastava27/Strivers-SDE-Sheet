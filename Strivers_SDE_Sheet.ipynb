{
  "nbformat": 4,
  "nbformat_minor": 0,
  "metadata": {
    "colab": {
      "provenance": [],
      "authorship_tag": "ABX9TyOPwXN6SCkcPwb33PUbpEBd",
      "include_colab_link": true
    },
    "kernelspec": {
      "name": "python3",
      "display_name": "Python 3"
    },
    "language_info": {
      "name": "python"
    }
  },
  "cells": [
    {
      "cell_type": "markdown",
      "metadata": {
        "id": "view-in-github",
        "colab_type": "text"
      },
      "source": [
        "<a href=\"https://colab.research.google.com/github/AyushSrivastava27/Strivers-SDE-Sheet/blob/main/Strivers_SDE_Sheet.ipynb\" target=\"_parent\"><img src=\"https://colab.research.google.com/assets/colab-badge.svg\" alt=\"Open In Colab\"/></a>"
      ]
    },
    {
      "cell_type": "markdown",
      "source": [
        "#### 1. [Set Matrix Zeroes](https://leetcode.com/problems/set-matrix-zeroes/)"
      ],
      "metadata": {
        "id": "AjrphxV-MqHz"
      }
    },
    {
      "cell_type": "code",
      "execution_count": null,
      "metadata": {
        "id": "Qog6Rc4tZ34h"
      },
      "outputs": [],
      "source": [
        "class Solution:\n",
        "    def getChanges(self, mat):\n",
        "        changePositions = []\n",
        "        for i in range(len(mat)):\n",
        "            for j in range(len(mat[0])):\n",
        "                if mat[i][j] == 0:\n",
        "                    changePositions.append((i, j))\n",
        "        return changePositions\n",
        "    def setZeroes(self, matrix):\n",
        "        changes = self.getChanges(matrix)\n",
        "        m = len(matrix)\n",
        "        n = len(matrix[0])\n",
        "        for coor in changes:\n",
        "            for i in range(m):\n",
        "                matrix[i][coor[1]] = 0\n",
        "            for j in range(n):\n",
        "                matrix[coor[0]][j] = 0"
      ]
    },
    {
      "cell_type": "markdown",
      "source": [
        "#### 2. [Pascal's Triangle](https://leetcode.com/problems/pascals-triangle/)"
      ],
      "metadata": {
        "id": "pJfaVwP7eiJv"
      }
    },
    {
      "cell_type": "code",
      "source": [
        "class Solution:\n",
        "    def generate(self, numRows: int) -> List[List[int]]:\n",
        "        arr = [[1]]\n",
        "        l = []\n",
        "        for i in range(numRows-1):\n",
        "            l = [1]\n",
        "            for j in range(i):\n",
        "                l.append(arr[i][j] + arr[i][j+1])\n",
        "            l.append(1)\n",
        "            arr.append(l)\n",
        "        return arr"
      ],
      "metadata": {
        "id": "yCyPtEtJeh4U"
      },
      "execution_count": null,
      "outputs": []
    }
  ]
}