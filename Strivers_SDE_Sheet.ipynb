{
  "nbformat": 4,
  "nbformat_minor": 0,
  "metadata": {
    "colab": {
      "provenance": [],
      "authorship_tag": "ABX9TyOGVslFRzMt/4J/3/wiONWm",
      "include_colab_link": true
    },
    "kernelspec": {
      "name": "python3",
      "display_name": "Python 3"
    },
    "language_info": {
      "name": "python"
    }
  },
  "cells": [
    {
      "cell_type": "markdown",
      "metadata": {
        "id": "view-in-github",
        "colab_type": "text"
      },
      "source": [
        "<a href=\"https://colab.research.google.com/github/AyushSrivastava27/Strivers-SDE-Sheet/blob/main/Strivers_SDE_Sheet.ipynb\" target=\"_parent\"><img src=\"https://colab.research.google.com/assets/colab-badge.svg\" alt=\"Open In Colab\"/></a>"
      ]
    },
    {
      "cell_type": "markdown",
      "source": [
        "#### 1. [Set Matrix Zeroes](https://leetcode.com/problems/set-matrix-zeroes/)"
      ],
      "metadata": {
        "id": "AjrphxV-MqHz"
      }
    },
    {
      "cell_type": "code",
      "execution_count": null,
      "metadata": {
        "id": "Qog6Rc4tZ34h"
      },
      "outputs": [],
      "source": [
        "class Solution:\n",
        "    def getChanges(self, mat):\n",
        "        changePositions = []\n",
        "        for i in range(len(mat)):\n",
        "            for j in range(len(mat[0])):\n",
        "                if mat[i][j] == 0:\n",
        "                    changePositions.append((i, j))\n",
        "        return changePositions\n",
        "    def setZeroes(self, matrix):\n",
        "        changes = self.getChanges(matrix)\n",
        "        m = len(matrix)\n",
        "        n = len(matrix[0])\n",
        "        for coor in changes:\n",
        "            for i in range(m):\n",
        "                matrix[i][coor[1]] = 0\n",
        "            for j in range(n):\n",
        "                matrix[coor[0]][j] = 0"
      ]
    },
    {
      "cell_type": "markdown",
      "source": [
        "#### 2. [Pascal's Triangle](https://leetcode.com/problems/pascals-triangle/)"
      ],
      "metadata": {
        "id": "pJfaVwP7eiJv"
      }
    },
    {
      "cell_type": "code",
      "source": [
        "class Solution:\n",
        "    def generate(self, numRows: int) -> List[List[int]]:\n",
        "        arr = [[1]]\n",
        "        l = []\n",
        "        for i in range(numRows-1):\n",
        "            l = [1]\n",
        "            for j in range(i):\n",
        "                l.append(arr[i][j] + arr[i][j+1])\n",
        "            l.append(1)\n",
        "            arr.append(l)\n",
        "        return arr"
      ],
      "metadata": {
        "id": "yCyPtEtJeh4U"
      },
      "execution_count": null,
      "outputs": []
    },
    {
      "cell_type": "markdown",
      "source": [
        "#### 3. [Next Permutation](https://leetcode.com/problems/next-permutation/description/)"
      ],
      "metadata": {
        "id": "guLSuVkvUtcL"
      }
    },
    {
      "cell_type": "code",
      "source": [
        "class Solution:\n",
        "    def nextPermutation(self, nums: List[int]) -> None:\n",
        "        \"\"\"\n",
        "        Do not return anything, modify nums in-place instead.\n",
        "        \"\"\"\n",
        "        n = len(nums)\n",
        "\n",
        "        if n in [0,1]:\n",
        "            return\n",
        "        b = -1\n",
        "        for i in range(n-1, -1, -1):\n",
        "            if nums[i] < nums[b]:\n",
        "                for j in range(n-1, i, -1):\n",
        "                    if nums[j] > nums[i]:\n",
        "                        nums[i], nums[j] = nums[j], nums[i]\n",
        "                        nums[i+1:] = sorted(nums[i+1:])\n",
        "                        return\n",
        "            else:\n",
        "                b = i\n",
        "        nums.sort()"
      ],
      "metadata": {
        "id": "RDyBoo5IUqCg"
      },
      "execution_count": null,
      "outputs": []
    },
    {
      "cell_type": "markdown",
      "source": [
        "#### 4. [Maximum Subarray](https://leetcode.com/problems/maximum-subarray/description/)"
      ],
      "metadata": {
        "id": "XmLic8I_skbE"
      }
    },
    {
      "cell_type": "code",
      "source": [
        "# 1. Brute force method\n",
        "class Solution:\n",
        "    def maxSubArray(self, nums: List[int]) -> int:\n",
        "        m = 0\n",
        "        for i in range(len(nums)):\n",
        "            for j in range(i, len(nums)):\n",
        "                sum = 0\n",
        "                for k in range(i, j+1):\n",
        "                    sum += nums[k]\n",
        "                m = max(sum, m)\n",
        "        return m\n",
        "\n",
        "# 2. Kadane's Algorithm\n",
        "\n",
        "class Solution:\n",
        "    def maxSubArray(self, nums: List[int]) -> int:\n",
        "        sum = 0\n",
        "        m = nums[0]\n",
        "\n",
        "        for i in range(0, len(nums)):\n",
        "            sum += nums[i]\n",
        "            m = max(m, sum)\n",
        "\n",
        "            if sum<0:\n",
        "                sum = 0\n",
        "        return m"
      ],
      "metadata": {
        "id": "RU_vLMfe7yiD"
      },
      "execution_count": null,
      "outputs": []
    },
    {
      "cell_type": "markdown",
      "source": [
        "#### 5. [Sort Colors](https://leetcode.com/problems/sort-colors/description/)"
      ],
      "metadata": {
        "id": "fKQgWH42N04S"
      }
    },
    {
      "cell_type": "code",
      "source": [
        "class Solution:\n",
        "    def sortColors(self, nums: List[int]) -> None:\n",
        "        \"\"\"\n",
        "        Do not return anything, modify nums in-place instead.\n",
        "        \"\"\"\n",
        "        nums = nums.sort()"
      ],
      "metadata": {
        "id": "HfFjlkhxN1Yz"
      },
      "execution_count": null,
      "outputs": []
    },
    {
      "cell_type": "markdown",
      "source": [
        "#### 6. [Best Time to Buy and Sell Stock](https://leetcode.com/problems/best-time-to-buy-and-sell-stock/description/)"
      ],
      "metadata": {
        "id": "r1lBMJVAMYSX"
      }
    },
    {
      "cell_type": "code",
      "source": [
        "class Solution:\n",
        "    def maxProfit(self, prices: List[int]) -> int:\n",
        "        min_price = prices[0]\n",
        "        max_profit = 0\n",
        "\n",
        "        for i in prices[1:]:\n",
        "            max_profit = max(max_profit, i-min_price)\n",
        "            min_price = min(min_price, i)\n",
        "\n",
        "        return max_profit"
      ],
      "metadata": {
        "id": "e4DRT94EMhjE"
      },
      "execution_count": null,
      "outputs": []
    },
    {
      "cell_type": "markdown",
      "source": [
        "#### 7. [Rotate Matrix](https://leetcode.com/problems/rotate-image/description/)"
      ],
      "metadata": {
        "id": "_8kozEa2zuuQ"
      }
    },
    {
      "cell_type": "code",
      "source": [
        "class Solution:\n",
        "    def rotate(self, matrix: List[List[int]]) -> None:\n",
        "        \"\"\"\n",
        "        Do not return anything, modify matrix in-place instead.\n",
        "        \"\"\"\n",
        "        l = len(matrix)\n",
        "        for i in range(l):\n",
        "            for j in range(i, l):\n",
        "                matrix[i][j], matrix[j][i] = matrix[j][i], matrix[i][j]\n",
        "\n",
        "        for i in range(l):\n",
        "            matrix[i].reverse()"
      ],
      "metadata": {
        "id": "kuiiaSiYzt9D"
      },
      "execution_count": null,
      "outputs": []
    },
    {
      "cell_type": "markdown",
      "source": [
        "#### 8. [Merge Intervals](https://leetcode.com/problems/merge-intervals/description/)"
      ],
      "metadata": {
        "id": "Kdgn-YTOgLS_"
      }
    },
    {
      "cell_type": "code",
      "source": [
        "class Solution:\n",
        "    def merge(self, intervals: List[List[int]]) -> List[List[int]]:\n",
        "        intervals = sorted(intervals)\n",
        "        arr = []\n",
        "\n",
        "        for i in intervals:\n",
        "            if not arr or arr[-1][1] < i[0]:\n",
        "                arr.append(i)\n",
        "            else:\n",
        "                arr[-1][1] = max(arr[-1][1], i[1])\n",
        "        return arr\n"
      ],
      "metadata": {
        "id": "l8yz7agkgKAl"
      },
      "execution_count": null,
      "outputs": []
    }
  ]
}